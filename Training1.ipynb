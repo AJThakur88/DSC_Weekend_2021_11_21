{
 "cells": [
  {
   "cell_type": "code",
   "execution_count": 2,
   "id": "73f7f7f5",
   "metadata": {},
   "outputs": [],
   "source": [
    "import os"
   ]
  },
  {
   "cell_type": "code",
   "execution_count": 3,
   "id": "c9cdf4f2",
   "metadata": {},
   "outputs": [
    {
     "data": {
      "text/plain": [
       "'C:\\\\Users\\\\asus'"
      ]
     },
     "execution_count": 3,
     "metadata": {},
     "output_type": "execute_result"
    }
   ],
   "source": [
    "os.getcwd()"
   ]
  },
  {
   "cell_type": "code",
   "execution_count": 8,
   "id": "47d08606",
   "metadata": {},
   "outputs": [],
   "source": [
    "import pandas"
   ]
  },
  {
   "cell_type": "code",
   "execution_count": 13,
   "id": "1c84a5e3",
   "metadata": {
    "scrolled": true
   },
   "outputs": [],
   "source": [
    "Data1 = pandas.read_csv(r'C:\\Users\\asus\\Documents\\Education\\Data Trained\\Dummy Data\\Salary.tsv',sep='\\t')"
   ]
  },
  {
   "cell_type": "code",
   "execution_count": 14,
   "id": "4c9431b4",
   "metadata": {},
   "outputs": [
    {
     "name": "stdout",
     "output_type": "stream",
     "text": [
      "       Name  Age  Salary\n",
      "0   Alister   32   60000\n",
      "1     Karen   26   40000\n",
      "2    Alisha   26   50000\n",
      "3    Samuel   26   20000\n",
      "4  Florence   26   25000\n",
      "5     Savio  262    5000\n",
      "6      Paul   26   25000\n"
     ]
    }
   ],
   "source": [
    "print(Data1)"
   ]
  },
  {
   "cell_type": "code",
   "execution_count": 21,
   "id": "178c214d",
   "metadata": {},
   "outputs": [
    {
     "name": "stdout",
     "output_type": "stream",
     "text": [
      "       Name  Age  Salary\n",
      "0   Alister   32   60000\n",
      "1     Karen   26   40000\n",
      "2    Alisha   26   50000\n",
      "3    Samuel   26   20000\n",
      "4  Florence   26   25000\n",
      "5     Savio   26   25000\n",
      "6      Paul   26   25000\n"
     ]
    }
   ],
   "source": [
    "Data2 = pandas.read_excel(r'C:\\Users\\asus\\Documents\\Education\\Data Trained\\Salary.xlsx')\n",
    "print(Data2)"
   ]
  },
  {
   "cell_type": "code",
   "execution_count": 29,
   "id": "fe26f99b",
   "metadata": {},
   "outputs": [
    {
     "name": "stdout",
     "output_type": "stream",
     "text": [
      "       Name  Age  Salary\n",
      "0   Alister   32   60000\n",
      "1     Karen   26   40000\n",
      "2    Alisha   26   50000\n",
      "3    Samuel   26   20000\n",
      "4  Florence   26   25000\n",
      "5     Savio   26   25000\n",
      "6      Paul   26   25000\n"
     ]
    }
   ],
   "source": [
    "Data3 = pandas.read_csv(r'C:\\Users\\asus\\Documents\\Education\\Data Trained\\Salary.csv')\n",
    "print(Data3)"
   ]
  },
  {
   "cell_type": "code",
   "execution_count": null,
   "id": "c51eda86",
   "metadata": {},
   "outputs": [],
   "source": []
  }
 ],
 "metadata": {
  "kernelspec": {
   "display_name": "Python 3 (ipykernel)",
   "language": "python",
   "name": "python3"
  },
  "language_info": {
   "codemirror_mode": {
    "name": "ipython",
    "version": 3
   },
   "file_extension": ".py",
   "mimetype": "text/x-python",
   "name": "python",
   "nbconvert_exporter": "python",
   "pygments_lexer": "ipython3",
   "version": "3.9.7"
  }
 },
 "nbformat": 4,
 "nbformat_minor": 5
}
